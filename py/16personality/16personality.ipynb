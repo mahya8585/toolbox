{
 "cells": [
  {
   "cell_type": "code",
   "execution_count": null,
   "metadata": {},
   "outputs": [],
   "source": [
    "# %pip install pandas\n",
    "# %pip install seaborn\n",
    "# %pip install scikit-learn"
   ]
  },
  {
   "cell_type": "code",
   "execution_count": null,
   "metadata": {},
   "outputs": [],
   "source": [
    "import pandas as pd\n",
    "import seaborn as sns\n",
    "\n",
    "%matplotlib inline\n",
    "\n",
    "# データ読み込み\n",
    "df = pd.read_csv('personality.csv')\n",
    "\n",
    "df.head()\n"
   ]
  },
  {
   "cell_type": "code",
   "execution_count": null,
   "metadata": {},
   "outputs": [],
   "source": [
    "# seabornでとりあえずペアプロット(名前で色分け)\n",
    "sns.pairplot(df, hue='name')"
   ]
  },
  {
   "cell_type": "code",
   "execution_count": null,
   "metadata": {},
   "outputs": [],
   "source": [
    "# ペアプロット(カテゴリで色分け)\n",
    "sns.pairplot(df, hue='category', diag_kind='hist')"
   ]
  },
  {
   "cell_type": "code",
   "execution_count": null,
   "metadata": {},
   "outputs": [],
   "source": [
    "# ペアプロット(ATで色分け)\n",
    "sns.pairplot(df, hue='name', vars=['cat-A', 'cat-T'])"
   ]
  },
  {
   "cell_type": "code",
   "execution_count": null,
   "metadata": {},
   "outputs": [],
   "source": [
    "# カテゴリの種類数確認\n",
    "df['category'].value_counts()"
   ]
  },
  {
   "cell_type": "code",
   "execution_count": null,
   "metadata": {},
   "outputs": [],
   "source": [
    "# カテゴリ種別ごとにデータを並び替えて表示する\n",
    "df.sort_values(by=['category', 'identity'])"
   ]
  },
  {
   "cell_type": "code",
   "execution_count": null,
   "metadata": {},
   "outputs": [],
   "source": [
    "# データ出力用\n",
    "mark = 'o'\n",
    "sns.pairplot(df, hue='category', markers=mark, vars=['E', 'I']).savefig('cat-EI.png')\n",
    "sns.pairplot(df, hue='category', markers=mark, vars=['N', 'S']).savefig('cat-NS.png')\n",
    "sns.pairplot(df, hue='category', markers=mark, vars=['T', 'F']).savefig('cat-TF.png')\n",
    "sns.pairplot(df, hue='category', markers=mark, vars=['J', 'P']).savefig('cat-JP.png')\n",
    "sns.pairplot(df, hue='category', markers=mark, vars=['cat-A', 'cat-T']).savefig('cat-AT.png')\n",
    "\n",
    "sns.pairplot(df, hue='name', markers=mark, vars=['E', 'I']).savefig('name-EI.png')\n",
    "sns.pairplot(df, hue='name', markers=mark, vars=['N', 'S']).savefig('name-NS.png')\n",
    "sns.pairplot(df, hue='name', markers=mark, vars=['T', 'F']).savefig('name-TF.png')\n",
    "sns.pairplot(df, hue='name', markers=mark, vars=['J', 'P']).savefig('name-JP.png')\n",
    "sns.pairplot(df, hue='name', markers=mark, vars=['cat-A', 'cat-T']).savefig('name-AT.png')"
   ]
  },
  {
   "cell_type": "code",
   "execution_count": null,
   "metadata": {},
   "outputs": [],
   "source": []
  }
 ],
 "metadata": {
  "kernelspec": {
   "display_name": "Python 3",
   "language": "python",
   "name": "python3"
  },
  "language_info": {
   "codemirror_mode": {
    "name": "ipython",
    "version": 3
   },
   "file_extension": ".py",
   "mimetype": "text/x-python",
   "name": "python",
   "nbconvert_exporter": "python",
   "pygments_lexer": "ipython3",
   "version": "3.11.4"
  }
 },
 "nbformat": 4,
 "nbformat_minor": 2
}
